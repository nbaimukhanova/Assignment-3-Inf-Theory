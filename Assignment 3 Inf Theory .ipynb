{
 "cells": [
  {
   "cell_type": "markdown",
   "metadata": {},
   "source": [
    "# Assignment 3\n",
    "\n",
    "Nuraina Baimukhanova & Zukhra Mazhitova\n"
   ]
  },
  {
   "cell_type": "markdown",
   "metadata": {},
   "source": [
    "## Part 1"
   ]
  },
  {
   "cell_type": "markdown",
   "metadata": {},
   "source": [
    "- Input file should be simple txt formatted file. First of all, we open file and read content of file in order to save it in variable called \"input_file\"."
   ]
  },
  {
   "cell_type": "code",
   "execution_count": 1,
   "metadata": {},
   "outputs": [],
   "source": [
    "with open(\"file.txt\", \"r\") as f:\n",
    "    input_file = f.read()"
   ]
  },
  {
   "cell_type": "markdown",
   "metadata": {},
   "source": [
    "- Secondly, we save probabilities of each unique character with appropriate character in array called \"output\". To calculate probability we divide number of occurence of symbol by length of inputted text. We repeat all actions in loop for each character in string."
   ]
  },
  {
   "cell_type": "markdown",
   "metadata": {},
   "source": [
    "- Finally, we print results."
   ]
  },
  {
   "cell_type": "code",
   "execution_count": 2,
   "metadata": {},
   "outputs": [
    {
     "name": "stdout",
     "output_type": "stream",
     "text": [
      "e-0.077\n",
      "o-0.038\n",
      "p-0.077\n",
      "n-0.115\n",
      "l-0.038\n",
      "new line-0.077\n",
      "r-0.077\n",
      "a-0.231\n",
      "b-0.038\n",
      "t-0.038\n",
      "s-0.077\n",
      "tab-0.038\n",
      "whitespace-0.038\n",
      "g-0.038\n"
     ]
    }
   ],
   "source": [
    "#empty array in order to save characters with their probabilities\n",
    "arr=[]\n",
    "for character in set(input_file):\n",
    "    output = (input_file.count(character))/len(input_file)\n",
    "    if(character==' '):\n",
    "        character='whitespace'\n",
    "    elif(character=='\\n'):\n",
    "        character='new line'\n",
    "    elif(character=='\t'):\n",
    "        character='tab'\n",
    "    touple = [ character ,round(output,3)]#touple object for each character\n",
    "    if touple not in arr: \n",
    "        arr.append(touple)#save all probabilities and characters in the array\n",
    "    print(character+'-'+str(round(output,3)))"
   ]
  },
  {
   "cell_type": "markdown",
   "metadata": {},
   "source": [
    "- Above we have saved list of characters in array. And now we sort elements of that array in ascending order based on their frequency probabilities."
   ]
  },
  {
   "cell_type": "code",
   "execution_count": 3,
   "metadata": {},
   "outputs": [
    {
     "data": {
      "text/plain": [
       "[['e', 0.077],\n",
       " ['o', 0.038],\n",
       " ['p', 0.077],\n",
       " ['n', 0.115],\n",
       " ['l', 0.038],\n",
       " ['new line', 0.077],\n",
       " ['r', 0.077],\n",
       " ['a', 0.231],\n",
       " ['b', 0.038],\n",
       " ['t', 0.038],\n",
       " ['s', 0.077],\n",
       " ['tab', 0.038],\n",
       " ['whitespace', 0.038],\n",
       " ['g', 0.038]]"
      ]
     },
     "execution_count": 3,
     "metadata": {},
     "output_type": "execute_result"
    }
   ],
   "source": [
    "arr #before sorting"
   ]
  },
  {
   "cell_type": "code",
   "execution_count": 4,
   "metadata": {},
   "outputs": [],
   "source": [
    "arr.sort(key=lambda tup: tup[1], reverse=False) #sorting characters by probabilities in ascending order "
   ]
  },
  {
   "cell_type": "code",
   "execution_count": 5,
   "metadata": {},
   "outputs": [
    {
     "data": {
      "text/plain": [
       "[['o', 0.038],\n",
       " ['l', 0.038],\n",
       " ['b', 0.038],\n",
       " ['t', 0.038],\n",
       " ['tab', 0.038],\n",
       " ['whitespace', 0.038],\n",
       " ['g', 0.038],\n",
       " ['e', 0.077],\n",
       " ['p', 0.077],\n",
       " ['new line', 0.077],\n",
       " ['r', 0.077],\n",
       " ['s', 0.077],\n",
       " ['n', 0.115],\n",
       " ['a', 0.231]]"
      ]
     },
     "execution_count": 5,
     "metadata": {},
     "output_type": "execute_result"
    }
   ],
   "source": [
    "arr #after sorting"
   ]
  },
  {
   "cell_type": "markdown",
   "metadata": {},
   "source": [
    "## Part 2 : Huffman coding"
   ]
  },
  {
   "cell_type": "markdown",
   "metadata": {},
   "source": [
    "### Task 2"
   ]
  },
  {
   "cell_type": "code",
   "execution_count": 6,
   "metadata": {},
   "outputs": [],
   "source": [
    "class Tree(object):\n",
    "\n",
    "    def __init__(self, left=None, right=None):\n",
    "        self.left = left\n",
    "        self.right = right\n",
    "\n",
    "    def child(self):\n",
    "        return (self.left, self.right)\n",
    "\n",
    "    def node(self):\n",
    "        return (self.left, self.right)\n",
    "\n",
    "    def __str__(self):\n",
    "        return '%s,%s' % (self.left, self.right)\n",
    "    "
   ]
  },
  {
   "cell_type": "code",
   "execution_count": 7,
   "metadata": {},
   "outputs": [
    {
     "name": "stdout",
     "output_type": "stream",
     "text": [
      "Node  1 :  a,n - sum  0.346\n",
      "Node  2 :  g,whitespace - sum  0.076\n",
      "Node  3 :  tab,t - sum  0.076\n",
      "Node  4 :  b,l - sum  0.076\n",
      "Node  5 :  o,b,l - sum  0.114\n",
      "Node  6 :  tab,t,g,whitespace - sum  0.152\n",
      "Node  7 :  s,r - sum  0.154\n",
      "Node  8 :  new line,p - sum  0.154\n",
      "Node  9 :  e,o,b,l - sum  0.191\n",
      "Node  10 :  tab,t,g,whitespace,new line,p - sum  0.306\n",
      "Node  11 :  s,r,e,o,b,l - sum  0.345\n",
      "Node  12 :  tab,t,g,whitespace,new line,p,s,r,e,o,b,l - sum  0.651\n",
      "Node  13 :  a,n,tab,t,g,whitespace,new line,p,s,r,e,o,b,l - sum  0.997\n"
     ]
    }
   ],
   "source": [
    "nodes = arr\n",
    "counter=0\n",
    "while len(nodes) > 1:\n",
    "    counter+=1\n",
    "    (key1, c1) = nodes[-1]\n",
    "    (key2, c2) = nodes[-2]\n",
    "    nodes = nodes[:-2]\n",
    "    node = Tree(key1, key2)\n",
    "    nodes.append((node, c1 + c2))\n",
    "    print('Node ',counter,': ',node, \"- sum \",round((c1+c2),3))\n",
    "    nodes = sorted(nodes, key=lambda x: x[1], reverse=True)"
   ]
  },
  {
   "cell_type": "markdown",
   "metadata": {},
   "source": [
    "### Task 3"
   ]
  },
  {
   "cell_type": "code",
   "execution_count": 8,
   "metadata": {},
   "outputs": [],
   "source": [
    "def huffmanEncoding(node, left=True, binaryRecord=''):\n",
    "    if type(node) is str:\n",
    "        return {node: binaryRecord}\n",
    "    (l, r) = node.child()\n",
    "    dictonary = dict()\n",
    "    dictonary.update(huffmanEncoding(l, True, binaryRecord + '0'))\n",
    "    dictonary.update(huffmanEncoding(r, False, binaryRecord + '1'))\n",
    "    return dictonary"
   ]
  },
  {
   "cell_type": "code",
   "execution_count": 9,
   "metadata": {},
   "outputs": [
    {
     "name": "stdout",
     "output_type": "stream",
     "text": [
      "{'a': '00', 'n': '01', 'tab': '10000', 't': '10001', 'g': '10010', 'whitespace': '10011', 'new line': '1010', 'p': '1011', 's': '1100', 'r': '1101', 'e': '1110', 'o': '11110', 'b': '111110', 'l': '111111'}\n"
     ]
    }
   ],
   "source": [
    "huffmanCode = huffmanEncoding(nodes[0][0])\n",
    "print(huffmanCode)"
   ]
  },
  {
   "cell_type": "code",
   "execution_count": 10,
   "metadata": {},
   "outputs": [
    {
     "name": "stdout",
     "output_type": "stream",
     "text": [
      "o  -  0.038  -  11110\n",
      "l  -  0.038  -  111111\n",
      "b  -  0.038  -  111110\n",
      "t  -  0.038  -  10001\n",
      "tab  -  0.038  -  10000\n",
      "whitespace  -  0.038  -  10011\n",
      "g  -  0.038  -  10010\n",
      "e  -  0.077  -  1110\n",
      "p  -  0.077  -  1011\n",
      "new line  -  0.077  -  1010\n",
      "r  -  0.077  -  1101\n",
      "s  -  0.077  -  1100\n",
      "n  -  0.115  -  01\n",
      "a  -  0.231  -  00\n"
     ]
    }
   ],
   "source": [
    "for (word, f) in arr:\n",
    "    print(word,' - ',f,' - ', huffmanCode[word])"
   ]
  },
  {
   "cell_type": "markdown",
   "metadata": {},
   "source": [
    "### Task 4"
   ]
  },
  {
   "cell_type": "code",
   "execution_count": 11,
   "metadata": {},
   "outputs": [
    {
     "name": "stdout",
     "output_type": "stream",
     "text": [
      "00101110111111111110100111111011010001100101110101011111000010001001100101011001000100110110000\n"
     ]
    }
   ],
   "source": [
    "compressed=''\n",
    "for i in input_file:\n",
    "    if(i==' '):\n",
    "        i='whitespace'\n",
    "    elif(i=='\\n'):\n",
    "        i='new line'\n",
    "    elif(i=='\t'):\n",
    "        i='tab'\n",
    "    compressed+=huffmanCode[i]\n",
    "print(compressed)"
   ]
  },
  {
   "cell_type": "code",
   "execution_count": 12,
   "metadata": {},
   "outputs": [],
   "source": [
    "file = open(\"sample.txt\", \"w\")\n",
    "file.write(compressed)\n",
    "file.close()"
   ]
  },
  {
   "cell_type": "markdown",
   "metadata": {},
   "source": [
    "### Task 5"
   ]
  },
  {
   "cell_type": "code",
   "execution_count": 13,
   "metadata": {},
   "outputs": [
    {
     "name": "stdout",
     "output_type": "stream",
     "text": [
      "264\n"
     ]
    }
   ],
   "source": [
    "uncommpressed=0\n",
    "for i in input_file:\n",
    "    if i == '\\n':\n",
    "        uncommpressed+=16\n",
    "    if i == '\\t':\n",
    "        uncommpressed+=32\n",
    "    else:\n",
    "        uncommpressed+=8\n",
    "print(uncommpressed)"
   ]
  },
  {
   "cell_type": "code",
   "execution_count": 14,
   "metadata": {},
   "outputs": [],
   "source": [
    "code_word=0\n",
    "for (word, f) in arr:\n",
    "    code_word+=f*len(huffmanCode[word])"
   ]
  },
  {
   "cell_type": "code",
   "execution_count": 15,
   "metadata": {},
   "outputs": [
    {
     "name": "stdout",
     "output_type": "stream",
     "text": [
      "Number of bits in the original text:  264 bits\n",
      "Number of bits in the compressed text:  95 bits\n",
      "Compression ratio =  2.78\n",
      "Average code length =  3.64 bits/symbol\n"
     ]
    }
   ],
   "source": [
    "compression_ratio=uncommpressed/len(compressed)\n",
    "print('Number of bits in the original text: ',uncommpressed,'bits')\n",
    "print('Number of bits in the compressed text: ',len(compressed),'bits')\n",
    "print('Compression ratio = ',round(compression_ratio,2))\n",
    "print('Average code length = ',round(code_word,2),'bits/symbol')"
   ]
  }
 ],
 "metadata": {
  "kernelspec": {
   "display_name": "Python 3",
   "language": "python",
   "name": "python3"
  },
  "language_info": {
   "codemirror_mode": {
    "name": "ipython",
    "version": 3
   },
   "file_extension": ".py",
   "mimetype": "text/x-python",
   "name": "python",
   "nbconvert_exporter": "python",
   "pygments_lexer": "ipython3",
   "version": "3.8.5"
  }
 },
 "nbformat": 4,
 "nbformat_minor": 4
}
